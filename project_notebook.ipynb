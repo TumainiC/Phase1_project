{
 "cells": [
  {
   "cell_type": "markdown",
   "metadata": {},
   "source": [
    "# AVIATION DATA ANAYLSIS"
   ]
  },
  {
   "cell_type": "markdown",
   "metadata": {},
   "source": [
    "## Introduction"
   ]
  },
  {
   "cell_type": "markdown",
   "metadata": {},
   "source": [
    "In this notebook, I will be analysing the Aviation data form this [Kaggle dataset](https://www.kaggle.com/datasets/khsamaha/aviation-accident-database-synopses) in order do achieve the following:\n",
    "\n",
    "...* To give three business recommendations for the business \n",
    "...* Communicating my work \n",
    "...* Using plenty of visualizations\n",
    "\n"
   ]
  }
 ],
 "metadata": {
  "language_info": {
   "name": "python"
  }
 },
 "nbformat": 4,
 "nbformat_minor": 2
}
