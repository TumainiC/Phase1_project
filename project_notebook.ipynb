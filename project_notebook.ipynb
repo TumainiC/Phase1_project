{
 "cells": [
  {
   "cell_type": "markdown",
   "metadata": {},
   "source": [
    "# AVIATION DATA ANAYLSIS"
   ]
  },
  {
   "cell_type": "markdown",
   "metadata": {},
   "source": [
    "## Introduction"
   ]
  },
  {
   "cell_type": "markdown",
   "metadata": {},
   "source": [
    "In this notebook, I will be analysing the Aviation data form this [Kaggle dataset](https://www.kaggle.com/datasets/khsamaha/aviation-accident-database-synopses) in order do achieve the following:\n",
    "\n",
    "- To give three business recommendations for the business \n",
    "- Communicating my work \n",
    "- Using plenty of visualizations\n",
    "\n"
   ]
  },
  {
   "cell_type": "code",
   "execution_count": 232,
   "metadata": {},
   "outputs": [],
   "source": [
    "#Importing the necesary libraries\n",
    "import pandas as pd \n",
    "import matplotlib.pyplot as plt \n",
    "import numpy as np\n",
    "import seaborn as sns"
   ]
  },
  {
   "cell_type": "code",
   "execution_count": 356,
   "metadata": {},
   "outputs": [
    {
     "name": "stderr",
     "output_type": "stream",
     "text": [
      "c:\\Users\\CINDY\\anaconda3\\envs\\learn-env\\lib\\site-packages\\IPython\\core\\interactiveshell.py:3145: DtypeWarning: Columns (6,7,28) have mixed types.Specify dtype option on import or set low_memory=False.\n",
      "  has_raised = await self.run_ast_nodes(code_ast.body, cell_name,\n"
     ]
    },
    {
     "data": {
      "text/html": [
       "<div>\n",
       "<style scoped>\n",
       "    .dataframe tbody tr th:only-of-type {\n",
       "        vertical-align: middle;\n",
       "    }\n",
       "\n",
       "    .dataframe tbody tr th {\n",
       "        vertical-align: top;\n",
       "    }\n",
       "\n",
       "    .dataframe thead th {\n",
       "        text-align: right;\n",
       "    }\n",
       "</style>\n",
       "<table border=\"1\" class=\"dataframe\">\n",
       "  <thead>\n",
       "    <tr style=\"text-align: right;\">\n",
       "      <th></th>\n",
       "      <th>Event.Id</th>\n",
       "      <th>Investigation.Type</th>\n",
       "      <th>Accident.Number</th>\n",
       "      <th>Event.Date</th>\n",
       "      <th>Location</th>\n",
       "      <th>Country</th>\n",
       "      <th>Latitude</th>\n",
       "      <th>Longitude</th>\n",
       "      <th>Airport.Code</th>\n",
       "      <th>Airport.Name</th>\n",
       "      <th>...</th>\n",
       "      <th>Purpose.of.flight</th>\n",
       "      <th>Air.carrier</th>\n",
       "      <th>Total.Fatal.Injuries</th>\n",
       "      <th>Total.Serious.Injuries</th>\n",
       "      <th>Total.Minor.Injuries</th>\n",
       "      <th>Total.Uninjured</th>\n",
       "      <th>Weather.Condition</th>\n",
       "      <th>Broad.phase.of.flight</th>\n",
       "      <th>Report.Status</th>\n",
       "      <th>Publication.Date</th>\n",
       "    </tr>\n",
       "  </thead>\n",
       "  <tbody>\n",
       "    <tr>\n",
       "      <th>0</th>\n",
       "      <td>20001218X45444</td>\n",
       "      <td>Accident</td>\n",
       "      <td>SEA87LA080</td>\n",
       "      <td>1948-10-24</td>\n",
       "      <td>MOOSE CREEK, ID</td>\n",
       "      <td>United States</td>\n",
       "      <td>NaN</td>\n",
       "      <td>NaN</td>\n",
       "      <td>NaN</td>\n",
       "      <td>NaN</td>\n",
       "      <td>...</td>\n",
       "      <td>Personal</td>\n",
       "      <td>NaN</td>\n",
       "      <td>2.0</td>\n",
       "      <td>0.0</td>\n",
       "      <td>0.0</td>\n",
       "      <td>0.0</td>\n",
       "      <td>UNK</td>\n",
       "      <td>Cruise</td>\n",
       "      <td>Probable Cause</td>\n",
       "      <td>NaN</td>\n",
       "    </tr>\n",
       "    <tr>\n",
       "      <th>1</th>\n",
       "      <td>20001218X45447</td>\n",
       "      <td>Accident</td>\n",
       "      <td>LAX94LA336</td>\n",
       "      <td>1962-07-19</td>\n",
       "      <td>BRIDGEPORT, CA</td>\n",
       "      <td>United States</td>\n",
       "      <td>NaN</td>\n",
       "      <td>NaN</td>\n",
       "      <td>NaN</td>\n",
       "      <td>NaN</td>\n",
       "      <td>...</td>\n",
       "      <td>Personal</td>\n",
       "      <td>NaN</td>\n",
       "      <td>4.0</td>\n",
       "      <td>0.0</td>\n",
       "      <td>0.0</td>\n",
       "      <td>0.0</td>\n",
       "      <td>UNK</td>\n",
       "      <td>Unknown</td>\n",
       "      <td>Probable Cause</td>\n",
       "      <td>19-09-1996</td>\n",
       "    </tr>\n",
       "    <tr>\n",
       "      <th>2</th>\n",
       "      <td>20061025X01555</td>\n",
       "      <td>Accident</td>\n",
       "      <td>NYC07LA005</td>\n",
       "      <td>1974-08-30</td>\n",
       "      <td>Saltville, VA</td>\n",
       "      <td>United States</td>\n",
       "      <td>36.9222</td>\n",
       "      <td>-81.8781</td>\n",
       "      <td>NaN</td>\n",
       "      <td>NaN</td>\n",
       "      <td>...</td>\n",
       "      <td>Personal</td>\n",
       "      <td>NaN</td>\n",
       "      <td>3.0</td>\n",
       "      <td>NaN</td>\n",
       "      <td>NaN</td>\n",
       "      <td>NaN</td>\n",
       "      <td>IMC</td>\n",
       "      <td>Cruise</td>\n",
       "      <td>Probable Cause</td>\n",
       "      <td>26-02-2007</td>\n",
       "    </tr>\n",
       "    <tr>\n",
       "      <th>3</th>\n",
       "      <td>20001218X45448</td>\n",
       "      <td>Accident</td>\n",
       "      <td>LAX96LA321</td>\n",
       "      <td>1977-06-19</td>\n",
       "      <td>EUREKA, CA</td>\n",
       "      <td>United States</td>\n",
       "      <td>NaN</td>\n",
       "      <td>NaN</td>\n",
       "      <td>NaN</td>\n",
       "      <td>NaN</td>\n",
       "      <td>...</td>\n",
       "      <td>Personal</td>\n",
       "      <td>NaN</td>\n",
       "      <td>2.0</td>\n",
       "      <td>0.0</td>\n",
       "      <td>0.0</td>\n",
       "      <td>0.0</td>\n",
       "      <td>IMC</td>\n",
       "      <td>Cruise</td>\n",
       "      <td>Probable Cause</td>\n",
       "      <td>12-09-2000</td>\n",
       "    </tr>\n",
       "    <tr>\n",
       "      <th>4</th>\n",
       "      <td>20041105X01764</td>\n",
       "      <td>Accident</td>\n",
       "      <td>CHI79FA064</td>\n",
       "      <td>1979-08-02</td>\n",
       "      <td>Canton, OH</td>\n",
       "      <td>United States</td>\n",
       "      <td>NaN</td>\n",
       "      <td>NaN</td>\n",
       "      <td>NaN</td>\n",
       "      <td>NaN</td>\n",
       "      <td>...</td>\n",
       "      <td>Personal</td>\n",
       "      <td>NaN</td>\n",
       "      <td>1.0</td>\n",
       "      <td>2.0</td>\n",
       "      <td>NaN</td>\n",
       "      <td>0.0</td>\n",
       "      <td>VMC</td>\n",
       "      <td>Approach</td>\n",
       "      <td>Probable Cause</td>\n",
       "      <td>16-04-1980</td>\n",
       "    </tr>\n",
       "  </tbody>\n",
       "</table>\n",
       "<p>5 rows × 31 columns</p>\n",
       "</div>"
      ],
      "text/plain": [
       "         Event.Id Investigation.Type Accident.Number  Event.Date  \\\n",
       "0  20001218X45444           Accident      SEA87LA080  1948-10-24   \n",
       "1  20001218X45447           Accident      LAX94LA336  1962-07-19   \n",
       "2  20061025X01555           Accident      NYC07LA005  1974-08-30   \n",
       "3  20001218X45448           Accident      LAX96LA321  1977-06-19   \n",
       "4  20041105X01764           Accident      CHI79FA064  1979-08-02   \n",
       "\n",
       "          Location        Country Latitude Longitude Airport.Code  \\\n",
       "0  MOOSE CREEK, ID  United States      NaN       NaN          NaN   \n",
       "1   BRIDGEPORT, CA  United States      NaN       NaN          NaN   \n",
       "2    Saltville, VA  United States  36.9222  -81.8781          NaN   \n",
       "3       EUREKA, CA  United States      NaN       NaN          NaN   \n",
       "4       Canton, OH  United States      NaN       NaN          NaN   \n",
       "\n",
       "  Airport.Name  ... Purpose.of.flight Air.carrier Total.Fatal.Injuries  \\\n",
       "0          NaN  ...          Personal         NaN                  2.0   \n",
       "1          NaN  ...          Personal         NaN                  4.0   \n",
       "2          NaN  ...          Personal         NaN                  3.0   \n",
       "3          NaN  ...          Personal         NaN                  2.0   \n",
       "4          NaN  ...          Personal         NaN                  1.0   \n",
       "\n",
       "  Total.Serious.Injuries Total.Minor.Injuries Total.Uninjured  \\\n",
       "0                    0.0                  0.0             0.0   \n",
       "1                    0.0                  0.0             0.0   \n",
       "2                    NaN                  NaN             NaN   \n",
       "3                    0.0                  0.0             0.0   \n",
       "4                    2.0                  NaN             0.0   \n",
       "\n",
       "  Weather.Condition  Broad.phase.of.flight   Report.Status Publication.Date  \n",
       "0               UNK                 Cruise  Probable Cause              NaN  \n",
       "1               UNK                Unknown  Probable Cause       19-09-1996  \n",
       "2               IMC                 Cruise  Probable Cause       26-02-2007  \n",
       "3               IMC                 Cruise  Probable Cause       12-09-2000  \n",
       "4               VMC               Approach  Probable Cause       16-04-1980  \n",
       "\n",
       "[5 rows x 31 columns]"
      ]
     },
     "execution_count": 356,
     "metadata": {},
     "output_type": "execute_result"
    }
   ],
   "source": [
    "#Loading the data into the notebook \n",
    "#using the latin1 encoding to avoid the UnicodeDecodeError\n",
    "df = pd.read_csv('AviationData.csv', encoding='latin1')\n",
    "\n",
    "df.head()"
   ]
  },
  {
   "cell_type": "code",
   "execution_count": 234,
   "metadata": {},
   "outputs": [
    {
     "name": "stdout",
     "output_type": "stream",
     "text": [
      "<class 'pandas.core.frame.DataFrame'>\n",
      "RangeIndex: 88889 entries, 0 to 88888\n",
      "Data columns (total 31 columns):\n",
      " #   Column                  Non-Null Count  Dtype  \n",
      "---  ------                  --------------  -----  \n",
      " 0   Event.Id                88889 non-null  object \n",
      " 1   Investigation.Type      88889 non-null  object \n",
      " 2   Accident.Number         88889 non-null  object \n",
      " 3   Event.Date              88889 non-null  object \n",
      " 4   Location                88837 non-null  object \n",
      " 5   Country                 88663 non-null  object \n",
      " 6   Latitude                34382 non-null  object \n",
      " 7   Longitude               34373 non-null  object \n",
      " 8   Airport.Code            50249 non-null  object \n",
      " 9   Airport.Name            52790 non-null  object \n",
      " 10  Injury.Severity         87889 non-null  object \n",
      " 11  Aircraft.damage         85695 non-null  object \n",
      " 12  Aircraft.Category       32287 non-null  object \n",
      " 13  Registration.Number     87572 non-null  object \n",
      " 14  Make                    88826 non-null  object \n",
      " 15  Model                   88797 non-null  object \n",
      " 16  Amateur.Built           88787 non-null  object \n",
      " 17  Number.of.Engines       82805 non-null  float64\n",
      " 18  Engine.Type             81812 non-null  object \n",
      " 19  FAR.Description         32023 non-null  object \n",
      " 20  Schedule                12582 non-null  object \n",
      " 21  Purpose.of.flight       82697 non-null  object \n",
      " 22  Air.carrier             16648 non-null  object \n",
      " 23  Total.Fatal.Injuries    77488 non-null  float64\n",
      " 24  Total.Serious.Injuries  76379 non-null  float64\n",
      " 25  Total.Minor.Injuries    76956 non-null  float64\n",
      " 26  Total.Uninjured         82977 non-null  float64\n",
      " 27  Weather.Condition       84397 non-null  object \n",
      " 28  Broad.phase.of.flight   61724 non-null  object \n",
      " 29  Report.Status           82508 non-null  object \n",
      " 30  Publication.Date        75118 non-null  object \n",
      "dtypes: float64(5), object(26)\n",
      "memory usage: 21.0+ MB\n"
     ]
    }
   ],
   "source": [
    "#Looking at the columns of the dataframe\n",
    "df.info()"
   ]
  },
  {
   "cell_type": "code",
   "execution_count": 235,
   "metadata": {},
   "outputs": [
    {
     "data": {
      "text/html": [
       "<div>\n",
       "<style scoped>\n",
       "    .dataframe tbody tr th:only-of-type {\n",
       "        vertical-align: middle;\n",
       "    }\n",
       "\n",
       "    .dataframe tbody tr th {\n",
       "        vertical-align: top;\n",
       "    }\n",
       "\n",
       "    .dataframe thead th {\n",
       "        text-align: right;\n",
       "    }\n",
       "</style>\n",
       "<table border=\"1\" class=\"dataframe\">\n",
       "  <thead>\n",
       "    <tr style=\"text-align: right;\">\n",
       "      <th></th>\n",
       "      <th>Number.of.Engines</th>\n",
       "      <th>Total.Fatal.Injuries</th>\n",
       "      <th>Total.Serious.Injuries</th>\n",
       "      <th>Total.Minor.Injuries</th>\n",
       "      <th>Total.Uninjured</th>\n",
       "    </tr>\n",
       "  </thead>\n",
       "  <tbody>\n",
       "    <tr>\n",
       "      <th>count</th>\n",
       "      <td>82805.000000</td>\n",
       "      <td>77488.000000</td>\n",
       "      <td>76379.000000</td>\n",
       "      <td>76956.000000</td>\n",
       "      <td>82977.000000</td>\n",
       "    </tr>\n",
       "    <tr>\n",
       "      <th>mean</th>\n",
       "      <td>1.146585</td>\n",
       "      <td>0.647855</td>\n",
       "      <td>0.279881</td>\n",
       "      <td>0.357061</td>\n",
       "      <td>5.325440</td>\n",
       "    </tr>\n",
       "    <tr>\n",
       "      <th>std</th>\n",
       "      <td>0.446510</td>\n",
       "      <td>5.485960</td>\n",
       "      <td>1.544084</td>\n",
       "      <td>2.235625</td>\n",
       "      <td>27.913634</td>\n",
       "    </tr>\n",
       "    <tr>\n",
       "      <th>min</th>\n",
       "      <td>0.000000</td>\n",
       "      <td>0.000000</td>\n",
       "      <td>0.000000</td>\n",
       "      <td>0.000000</td>\n",
       "      <td>0.000000</td>\n",
       "    </tr>\n",
       "    <tr>\n",
       "      <th>25%</th>\n",
       "      <td>1.000000</td>\n",
       "      <td>0.000000</td>\n",
       "      <td>0.000000</td>\n",
       "      <td>0.000000</td>\n",
       "      <td>0.000000</td>\n",
       "    </tr>\n",
       "    <tr>\n",
       "      <th>50%</th>\n",
       "      <td>1.000000</td>\n",
       "      <td>0.000000</td>\n",
       "      <td>0.000000</td>\n",
       "      <td>0.000000</td>\n",
       "      <td>1.000000</td>\n",
       "    </tr>\n",
       "    <tr>\n",
       "      <th>75%</th>\n",
       "      <td>1.000000</td>\n",
       "      <td>0.000000</td>\n",
       "      <td>0.000000</td>\n",
       "      <td>0.000000</td>\n",
       "      <td>2.000000</td>\n",
       "    </tr>\n",
       "    <tr>\n",
       "      <th>max</th>\n",
       "      <td>8.000000</td>\n",
       "      <td>349.000000</td>\n",
       "      <td>161.000000</td>\n",
       "      <td>380.000000</td>\n",
       "      <td>699.000000</td>\n",
       "    </tr>\n",
       "  </tbody>\n",
       "</table>\n",
       "</div>"
      ],
      "text/plain": [
       "       Number.of.Engines  Total.Fatal.Injuries  Total.Serious.Injuries  \\\n",
       "count       82805.000000          77488.000000            76379.000000   \n",
       "mean            1.146585              0.647855                0.279881   \n",
       "std             0.446510              5.485960                1.544084   \n",
       "min             0.000000              0.000000                0.000000   \n",
       "25%             1.000000              0.000000                0.000000   \n",
       "50%             1.000000              0.000000                0.000000   \n",
       "75%             1.000000              0.000000                0.000000   \n",
       "max             8.000000            349.000000              161.000000   \n",
       "\n",
       "       Total.Minor.Injuries  Total.Uninjured  \n",
       "count          76956.000000     82977.000000  \n",
       "mean               0.357061         5.325440  \n",
       "std                2.235625        27.913634  \n",
       "min                0.000000         0.000000  \n",
       "25%                0.000000         0.000000  \n",
       "50%                0.000000         1.000000  \n",
       "75%                0.000000         2.000000  \n",
       "max              380.000000       699.000000  "
      ]
     },
     "execution_count": 235,
     "metadata": {},
     "output_type": "execute_result"
    }
   ],
   "source": [
    "#Looking at the statistical measures of the dataframe\n",
    "df.describe()"
   ]
  },
  {
   "cell_type": "code",
   "execution_count": 236,
   "metadata": {},
   "outputs": [
    {
     "data": {
      "text/plain": [
       "(88889, 31)"
      ]
     },
     "execution_count": 236,
     "metadata": {},
     "output_type": "execute_result"
    }
   ],
   "source": [
    "#Look at the shape of the dataframe\n",
    "df.shape"
   ]
  },
  {
   "cell_type": "markdown",
   "metadata": {},
   "source": [
    "### Addressing Missing Value in columns"
   ]
  },
  {
   "cell_type": "code",
   "execution_count": 237,
   "metadata": {},
   "outputs": [
    {
     "data": {
      "text/plain": [
       "Event.Id                      0\n",
       "Investigation.Type            0\n",
       "Accident.Number               0\n",
       "Event.Date                    0\n",
       "Location                     52\n",
       "Country                     226\n",
       "Latitude                  54507\n",
       "Longitude                 54516\n",
       "Airport.Code              38640\n",
       "Airport.Name              36099\n",
       "Injury.Severity            1000\n",
       "Aircraft.damage            3194\n",
       "Aircraft.Category         56602\n",
       "Registration.Number        1317\n",
       "Make                         63\n",
       "Model                        92\n",
       "Amateur.Built               102\n",
       "Number.of.Engines          6084\n",
       "Engine.Type                7077\n",
       "FAR.Description           56866\n",
       "Schedule                  76307\n",
       "Purpose.of.flight          6192\n",
       "Air.carrier               72241\n",
       "Total.Fatal.Injuries      11401\n",
       "Total.Serious.Injuries    12510\n",
       "Total.Minor.Injuries      11933\n",
       "Total.Uninjured            5912\n",
       "Weather.Condition          4492\n",
       "Broad.phase.of.flight     27165\n",
       "Report.Status              6381\n",
       "Publication.Date          13771\n",
       "dtype: int64"
      ]
     },
     "execution_count": 237,
     "metadata": {},
     "output_type": "execute_result"
    }
   ],
   "source": [
    "#Looking at the number of missing values in the dataframe\n",
    "df.isnull().sum()"
   ]
  },
  {
   "cell_type": "markdown",
   "metadata": {},
   "source": [
    "### Description of the data\n",
    "\n",
    "From the code above we can see the data has a number of missing value particularly in the following columns:\n",
    "- Air.carrier\n",
    "- Schedule\n",
    "- Latitude\n",
    "- Longitude\n",
    "- Aircraft.Category\n",
    "\n",
    "Depending in the use case of these column we will decide whether to drop them or to alter them for later use. Let's look into them *further*\n"
   ]
  },
  {
   "cell_type": "code",
   "execution_count": 357,
   "metadata": {},
   "outputs": [
    {
     "data": {
      "text/plain": [
       "Schedule                  85.85\n",
       "Air.carrier               81.27\n",
       "FAR.Description           63.97\n",
       "Aircraft.Category         63.68\n",
       "Longitude                 61.33\n",
       "Latitude                  61.32\n",
       "Airport.Code              43.47\n",
       "Airport.Name              40.61\n",
       "Broad.phase.of.flight     30.56\n",
       "Publication.Date          15.49\n",
       "Total.Serious.Injuries    14.07\n",
       "Total.Minor.Injuries      13.42\n",
       "Total.Fatal.Injuries      12.83\n",
       "Engine.Type                7.96\n",
       "Report.Status              7.18\n",
       "Purpose.of.flight          6.97\n",
       "Number.of.Engines          6.84\n",
       "Total.Uninjured            6.65\n",
       "Weather.Condition          5.05\n",
       "Aircraft.damage            3.59\n",
       "Registration.Number        1.48\n",
       "Injury.Severity            1.12\n",
       "Country                    0.25\n",
       "Amateur.Built              0.11\n",
       "Model                      0.10\n",
       "Make                       0.07\n",
       "Location                   0.06\n",
       "Event.Date                 0.00\n",
       "Accident.Number            0.00\n",
       "Investigation.Type         0.00\n",
       "Event.Id                   0.00\n",
       "dtype: float64"
      ]
     },
     "execution_count": 357,
     "metadata": {},
     "output_type": "execute_result"
    }
   ],
   "source": [
    "#Percentage of missing values in the dataframe\n",
    "percentage_missing =  round(df.isnull().sum() * 100 / len(df), 2)\n",
    "#sorting the percentage of missing values in descending order\n",
    "sorted_percentage_missing = percentage_missing.sort_values(ascending=False)\n",
    "#preview the sorted dataframe\n",
    "sorted_percentage_missing\n"
   ]
  },
  {
   "cell_type": "markdown",
   "metadata": {},
   "source": [
    "### Let us visualize these percentages using a barchart\n"
   ]
  },
  {
   "cell_type": "code",
   "execution_count": 239,
   "metadata": {},
   "outputs": [
    {
     "data": {
      "image/png": "[encoded data removed]",
      "text/plain": [
       "<Figure size 720x576 with 1 Axes>"
      ]
     },
     "metadata": {},
     "output_type": "display_data"
    }
   ],
   "source": [
    "#Plotting the percentage of missing values in each column\n",
    "#setting the style of the plot\n",
    "sns.set_style('whitegrid')\n",
    "#setting the size of the plot\n",
    "fig, ax = plt.subplots(figsize=(10, 8))\n",
    "\n",
    "#plotting the percentage of missing values in each column a horizontal bar plot\n",
    "sns.barplot(x=sorted_percentage_missing.values, y=sorted_percentage_missing.index, color='skyblue', orient='h')\n",
    "#setting the title and axis labels of the plot\n",
    "ax.set_title('Percentage of Missing Values in Each Column')\n",
    "ax.set_ylabel('Column Name')\n",
    "ax.set_xlabel('Percentage');\n"
   ]
  },
  {
   "cell_type": "code",
   "execution_count": 358,
   "metadata": {},
   "outputs": [
    {
     "data": {
      "text/plain": [
       "Event.Id                      0\n",
       "Investigation.Type            0\n",
       "Accident.Number               0\n",
       "Event.Date                    0\n",
       "Location                     52\n",
       "Country                     226\n",
       "Injury.Severity            1000\n",
       "Aircraft.damage            3194\n",
       "Registration.Number        1317\n",
       "Make                         63\n",
       "Model                        92\n",
       "Amateur.Built               102\n",
       "Number.of.Engines          6084\n",
       "Engine.Type                7077\n",
       "Purpose.of.flight          6192\n",
       "Total.Fatal.Injuries      11401\n",
       "Total.Serious.Injuries    12510\n",
       "Total.Minor.Injuries      11933\n",
       "Total.Uninjured            5912\n",
       "Weather.Condition          4492\n",
       "Broad.phase.of.flight     27165\n",
       "Report.Status              6381\n",
       "Publication.Date          13771\n",
       "dtype: int64"
      ]
     },
     "execution_count": 358,
     "metadata": {},
     "output_type": "execute_result"
    }
   ],
   "source": [
    "#Dropping the columns with more than 60% missing values\n",
    "#create a new dataframe that does not contain columns that contain missing values of more than 40%\n",
    "df = df.drop(axis=1, labels=sorted_percentage_missing[sorted_percentage_missing > 40].index)\n",
    "#checking to see if the columns have been removed\n",
    "df.isnull().sum()\n"
   ]
  },
  {
   "cell_type": "markdown",
   "metadata": {},
   "source": [
    "### Drop all rows with null values. \n",
    "\n",
    "Many columns in the dataset have missing values. The missing data is invaluable hence we will drop it. \n",
    "We can then after check the shape of the data frame"
   ]
  },
  {
   "cell_type": "markdown",
   "metadata": {},
   "source": [
    "### Let's now look at the dataframe columns individually and clean where necesarry.  "
   ]
  },
  {
   "cell_type": "code",
   "execution_count": 241,
   "metadata": {},
   "outputs": [
    {
     "data": {
      "text/plain": [
       "Index(['Event.Id', 'Investigation.Type', 'Accident.Number', 'Event.Date',\n",
       "       'Location', 'Country', 'Injury.Severity', 'Aircraft.damage',\n",
       "       'Registration.Number', 'Make', 'Model', 'Amateur.Built',\n",
       "       'Number.of.Engines', 'Engine.Type', 'Purpose.of.flight',\n",
       "       'Total.Fatal.Injuries', 'Total.Serious.Injuries',\n",
       "       'Total.Minor.Injuries', 'Total.Uninjured', 'Weather.Condition',\n",
       "       'Broad.phase.of.flight', 'Report.Status', 'Publication.Date'],\n",
       "      dtype='object')"
      ]
     },
     "execution_count": 241,
     "metadata": {},
     "output_type": "execute_result"
    }
   ],
   "source": [
    "#First view all the columns and check for inconsistencies in the values\n",
    "df.columns"
   ]
  },
  {
   "cell_type": "markdown",
   "metadata": {},
   "source": [
    "### Replacing similar values \n",
    "\n",
    "The `Make` column has similar names such as 'Cessna' and 'CESSNA'. \n",
    "Let us replace these values so we are left with only unique values"
   ]
  },
  {
   "cell_type": "code",
   "execution_count": 242,
   "metadata": {},
   "outputs": [
    {
     "data": {
      "text/plain": [
       "Cessna                  22227\n",
       "Piper                   12029\n",
       "CESSNA                   4922\n",
       "Beech                    4330\n",
       "PIPER                    2841\n",
       "                        ...  \n",
       "Sessi Midget Mustang        1\n",
       "Tharp S Richard             1\n",
       "Branham                     1\n",
       "Pettigrew, Richard          1\n",
       "KEUTHAN                     1\n",
       "Name: Make, Length: 8237, dtype: int64"
      ]
     },
     "execution_count": 242,
     "metadata": {},
     "output_type": "execute_result"
    }
   ],
   "source": [
    "#Checking the number of unique values in each column\n",
    "#The make column has some inconsistencies in the values\n",
    "df['Make'].value_counts()"
   ]
  },
  {
   "cell_type": "code",
   "execution_count": 359,
   "metadata": {},
   "outputs": [],
   "source": [
    "#Replace the values in the Make column that are similar\n",
    "#convert all the values into title format \n",
    "df['Make'] = df['Make'].map(lambda x: str(x).title())"
   ]
  },
  {
   "cell_type": "code",
   "execution_count": 360,
   "metadata": {},
   "outputs": [
    {
     "data": {
      "text/plain": [
       "Cessna                 27149\n",
       "Piper                  14870\n",
       "Beech                   5372\n",
       "Boeing                  2745\n",
       "Bell                    2722\n",
       "                       ...  \n",
       "John Sample                1\n",
       "Kirner                     1\n",
       "Skwira Matthew J           1\n",
       "Richard S Carpenter        1\n",
       "Trella                     1\n",
       "Name: Make, Length: 7588, dtype: int64"
      ]
     },
     "execution_count": 360,
     "metadata": {},
     "output_type": "execute_result"
    }
   ],
   "source": [
    "#check the make column to ensure all values are unique and in title case\n",
    "df['Make'].value_counts()"
   ]
  },
  {
   "cell_type": "markdown",
   "metadata": {},
   "source": [
    "#### The `Location` column has some inconsistencies\n",
    "Let us make all the locations uppercase and align them to the left. \n",
    "lso remove any trailing whitespaces and remove null values"
   ]
  },
  {
   "cell_type": "code",
   "execution_count": 245,
   "metadata": {},
   "outputs": [
    {
     "data": {
      "text/plain": [
       "ANCHORAGE, AK                    434\n",
       "MIAMI, FL                        200\n",
       "ALBUQUERQUE, NM                  196\n",
       "HOUSTON, TX                      193\n",
       "CHICAGO, IL                      184\n",
       "                                ... \n",
       "Southside, WV                      1\n",
       "Ejea de los Caballeros, Spain      1\n",
       "Ocoee, FL                          1\n",
       "AURORA, MN                         1\n",
       "Ezperanza, Las Americas            1\n",
       "Name: Location, Length: 27758, dtype: int64"
      ]
     },
     "execution_count": 245,
     "metadata": {},
     "output_type": "execute_result"
    }
   ],
   "source": [
    "df['Location'].value_counts()"
   ]
  },
  {
   "cell_type": "code",
   "execution_count": 361,
   "metadata": {},
   "outputs": [
    {
     "data": {
      "text/plain": [
       "ANCHORAGE, AK           548\n",
       "MIAMI, FL               275\n",
       "HOUSTON, TX             271\n",
       "ALBUQUERQUE, NM         265\n",
       "CHICAGO, IL             256\n",
       "                       ... \n",
       "JACKMAN, ME               1\n",
       "STEEP FALLS, ME           1\n",
       "BYRON CENTER, MI          1\n",
       "THORNTON, MS              1\n",
       "BUCKINGHAMSHIRE, OF       1\n",
       "Name: Location, Length: 21978, dtype: int64"
      ]
     },
     "execution_count": 361,
     "metadata": {},
     "output_type": "execute_result"
    }
   ],
   "source": [
    "#Convert all the values in the Location column to uppercase, remove any trailing whitespaces and align them to the left\n",
    "df['Location'] = df['Location'].map(lambda x: str(x).upper().strip().ljust(20))\n",
    "#confirm the changes\n",
    "df['Location'].value_counts()"
   ]
  },
  {
   "cell_type": "markdown",
   "metadata": {},
   "source": [
    "#### Change the values in the `Country` column to title case and get rid of null records if any"
   ]
  },
  {
   "cell_type": "code",
   "execution_count": 363,
   "metadata": {},
   "outputs": [
    {
     "data": {
      "text/plain": [
       "0"
      ]
     },
     "execution_count": 363,
     "metadata": {},
     "output_type": "execute_result"
    }
   ],
   "source": [
    "#Convert the values in the Country column to title case\n",
    "df['Country'] = df['Country'].map(lambda x: str(x).title())\n",
    "#check for null values in the Country column\n",
    "df['Country'].isnull().sum()"
   ]
  },
  {
   "cell_type": "markdown",
   "metadata": {},
   "source": [
    "#### Fill the null values in the `Aircraft.damage` column with the unknown category"
   ]
  },
  {
   "cell_type": "code",
   "execution_count": 364,
   "metadata": {},
   "outputs": [
    {
     "data": {
      "text/plain": [
       "Substantial    64148\n",
       "Destroyed      18623\n",
       "Unknown         3313\n",
       "Minor           2805\n",
       "Name: Aircraft.damage, dtype: int64"
      ]
     },
     "execution_count": 364,
     "metadata": {},
     "output_type": "execute_result"
    }
   ],
   "source": [
    "#fill the null values in the Aircraft.damage column with the unknown value\n",
    "df['Aircraft.damage'] = df['Aircraft.damage'].fillna('Unknown')\n",
    "#confirm the changes\n",
    "df['Aircraft.damage'].value_counts()"
   ]
  },
  {
   "cell_type": "markdown",
   "metadata": {},
   "source": [
    "\n",
    "#### The `Registration.Number` column has several null values named in different ways. Rename these null values and delete them"
   ]
  },
  {
   "cell_type": "code",
   "execution_count": 367,
   "metadata": {},
   "outputs": [
    {
     "data": {
      "text/plain": [
       "NONE       344\n",
       "UNREG      126\n",
       "None        65\n",
       "UNK         13\n",
       "USAF         9\n",
       "N20752       8\n",
       "N4101E       6\n",
       "N11VH        6\n",
       "N8402K       6\n",
       "unknown      6\n",
       "N53893       6\n",
       "N121CC       6\n",
       "N5408Y       6\n",
       "USN          5\n",
       "N9957J       5\n",
       "N8597D       5\n",
       "N93067       5\n",
       "N99HV        5\n",
       "N8653Y       5\n",
       "N3125N       5\n",
       "Name: Registration.Number, dtype: int64"
      ]
     },
     "execution_count": 367,
     "metadata": {},
     "output_type": "execute_result"
    }
   ],
   "source": [
    "#Find out the values that are null \n",
    "df['Registration.Number'].value_counts().head(20)"
   ]
  },
  {
   "cell_type": "code",
   "execution_count": 368,
   "metadata": {},
   "outputs": [
    {
     "data": {
      "text/plain": [
       "Unknown    1892\n",
       "N20752        8\n",
       "N4101E        6\n",
       "N121Cc        6\n",
       "N8402K        6\n",
       "           ... \n",
       "N16095        1\n",
       "N7374U        1\n",
       "N8519T        1\n",
       "N4777R        1\n",
       "N2227W        1\n",
       "Name: Registration.Number, Length: 79090, dtype: int64"
      ]
     },
     "execution_count": 368,
     "metadata": {},
     "output_type": "execute_result"
    }
   ],
   "source": [
    "#Convert the values in the Registration.Number column to title case, remove any trailing whitespaces \n",
    "df['Registration.Number'] = df['Registration.Number'].map(lambda x: str(x).title().strip())\n",
    "#Replace the None, Nan, Unk, Unreg, Usaf values with Unknown\n",
    "df['Registration.Number'].replace('None', 'Unknown', inplace=True)\n",
    "df['Registration.Number'].replace('Nan', 'Unknown', inplace=True)\n",
    "df['Registration.Number'].replace('Unk', 'Unknown', inplace=True)\n",
    "df['Registration.Number'].replace('Unreg', 'Unknown', inplace=True)\n",
    "df['Registration.Number'].replace('Usaf', 'Unknown', inplace=True)\n",
    "#confirm the changes\n",
    "df['Registration.Number'].value_counts()"
   ]
  },
  {
   "cell_type": "code",
   "execution_count": 369,
   "metadata": {},
   "outputs": [
    {
     "data": {
      "text/plain": [
       "0"
      ]
     },
     "execution_count": 369,
     "metadata": {},
     "output_type": "execute_result"
    }
   ],
   "source": [
    "#Check for null values\n",
    "df['Registration.Number'].isnull().sum()"
   ]
  },
  {
   "cell_type": "markdown",
   "metadata": {},
   "source": [
    "#### The `Number.of.Engines` column has multiple null values and its a float \n",
    "Convert the column values into integers and remove the null values "
   ]
  },
  {
   "cell_type": "code",
   "execution_count": 370,
   "metadata": {},
   "outputs": [
    {
     "data": {
      "text/plain": [
       "6084"
      ]
     },
     "execution_count": 370,
     "metadata": {},
     "output_type": "execute_result"
    }
   ],
   "source": [
    "df['Number.of.Engines'].isnull().sum()"
   ]
  },
  {
   "cell_type": "code",
   "execution_count": 371,
   "metadata": {},
   "outputs": [
    {
     "data": {
      "text/plain": [
       "0"
      ]
     },
     "execution_count": 371,
     "metadata": {},
     "output_type": "execute_result"
    }
   ],
   "source": [
    "#fill the null values with the mode \n",
    "#get the mode\n",
    "engines_mode = df['Number.of.Engines'].mode().values[0]\n",
    "#fill the null values\n",
    "df['Number.of.Engines'] = df['Number.of.Engines'].fillna(engines_mode)\n",
    "#confirm the changes\n",
    "df['Number.of.Engines'].isnull().sum()"
   ]
  },
  {
   "cell_type": "markdown",
   "metadata": {},
   "source": [
    "#### Cleaning the `Engine.Type` column\n",
    "Replacing all null values of the column and removing them"
   ]
  },
  {
   "cell_type": "code",
   "execution_count": 372,
   "metadata": {},
   "outputs": [
    {
     "data": {
      "text/plain": [
       "Reciprocating      69530\n",
       "Turbo Shaft         3609\n",
       "Turbo Prop          3391\n",
       "Turbo Fan           2481\n",
       "Unknown             2051\n",
       "Turbo Jet            703\n",
       "None                  19\n",
       "Geared Turbofan       12\n",
       "Electric              10\n",
       "NONE                   2\n",
       "LR                     2\n",
       "Hybrid Rocket          1\n",
       "UNK                    1\n",
       "Name: Engine.Type, dtype: int64"
      ]
     },
     "execution_count": 372,
     "metadata": {},
     "output_type": "execute_result"
    }
   ],
   "source": [
    "df['Engine.Type'].value_counts()"
   ]
  },
  {
   "cell_type": "code",
   "execution_count": 373,
   "metadata": {},
   "outputs": [
    {
     "data": {
      "text/plain": [
       "Reciprocating      69530\n",
       "Nan                 7077\n",
       "Turbo Shaft         3609\n",
       "Turbo Prop          3391\n",
       "Turbo Fan           2481\n",
       "Unknown             2051\n",
       "Turbo Jet            703\n",
       "None                  21\n",
       "Geared Turbofan       12\n",
       "Electric              10\n",
       "Lr                     2\n",
       "Hybrid Rocket          1\n",
       "Unk                    1\n",
       "Name: Engine.Type, dtype: int64"
      ]
     },
     "execution_count": 373,
     "metadata": {},
     "output_type": "execute_result"
    }
   ],
   "source": [
    "#Convert the values in the Engine.Type column to title case\n",
    "df['Engine.Type'] = df['Engine.Type'].map(lambda x: str(x).title())\n",
    "#confirm the changes\n",
    "df['Engine.Type'].value_counts()"
   ]
  },
  {
   "cell_type": "code",
   "execution_count": 374,
   "metadata": {},
   "outputs": [
    {
     "data": {
      "text/plain": [
       "Reciprocating      69530\n",
       "Nan                 7077\n",
       "Turbo Shaft         3609\n",
       "Turbo Prop          3391\n",
       "Turbo Fan           2481\n",
       "Unknown             2051\n",
       "Turbo Jet            703\n",
       "None                  21\n",
       "Geared Turbofan       12\n",
       "Electric              10\n",
       "Lr                     2\n",
       "Hybrid Rocket          1\n",
       "Unk                    1\n",
       "Name: Engine.Type, dtype: int64"
      ]
     },
     "execution_count": 374,
     "metadata": {},
     "output_type": "execute_result"
    }
   ],
   "source": [
    "#fill the null values in the Engine.Type column with the unknown value\n",
    "df['Engine.Type'] = df['Engine.Type'].fillna('Unknown')\n",
    "#confirm the changes\n",
    "df['Engine.Type'].value_counts()"
   ]
  },
  {
   "cell_type": "code",
   "execution_count": 375,
   "metadata": {},
   "outputs": [
    {
     "data": {
      "text/plain": [
       "Reciprocating      69530\n",
       "Unknown             9150\n",
       "Turbo Shaft         3609\n",
       "Turbo Prop          3391\n",
       "Turbo Fan           2481\n",
       "Turbo Jet            703\n",
       "Geared Turbofan       12\n",
       "Electric              10\n",
       "Lr                     2\n",
       "Hybrid Rocket          1\n",
       "Name: Engine.Type, dtype: int64"
      ]
     },
     "execution_count": 375,
     "metadata": {},
     "output_type": "execute_result"
    }
   ],
   "source": [
    "#change the 'None', 'Unk', 'Nan' and 'Unknown' values to 'NaN'\n",
    "df['Engine.Type'].replace('None', 'Unknown', inplace=True)\n",
    "df['Engine.Type'].replace('Unk', 'Unknown', inplace=True)\n",
    "df['Engine.Type'].replace('Nan', 'Unknown', inplace=True)\n",
    "#confirm the changes\n",
    "df['Engine.Type'].value_counts()"
   ]
  },
  {
   "cell_type": "markdown",
   "metadata": {},
   "source": [
    "#### Converting the `Total.Fatal.Injuries`, `Total.Serious.Injuries`, `'Total.Minor.Injuries'`,` 'Total.Uninjured',` column values into integers"
   ]
  },
  {
   "cell_type": "code",
   "execution_count": 376,
   "metadata": {},
   "outputs": [
    {
     "data": {
      "text/plain": [
       "0.0      71076\n",
       "1.0       8883\n",
       "2.0       5173\n",
       "3.0       1589\n",
       "4.0       1103\n",
       "         ...  \n",
       "31.0         1\n",
       "169.0        1\n",
       "150.0        1\n",
       "117.0        1\n",
       "156.0        1\n",
       "Name: Total.Fatal.Injuries, Length: 125, dtype: int64"
      ]
     },
     "execution_count": 376,
     "metadata": {},
     "output_type": "execute_result"
    }
   ],
   "source": [
    "#fill the null values in the Total.Fatal.Injuries column with 0\n",
    "df['Total.Fatal.Injuries'] = df['Total.Fatal.Injuries'].fillna(0.0)\n",
    "#confirm the changes\n",
    "df['Total.Fatal.Injuries'].value_counts()"
   ]
  },
  {
   "cell_type": "code",
   "execution_count": 377,
   "metadata": {},
   "outputs": [
    {
     "data": {
      "text/plain": [
       "0.0      75799\n",
       "1.0       9125\n",
       "2.0       2815\n",
       "3.0        629\n",
       "4.0        258\n",
       "5.0         78\n",
       "6.0         41\n",
       "7.0         27\n",
       "9.0         16\n",
       "8.0         13\n",
       "10.0        13\n",
       "13.0         9\n",
       "11.0         6\n",
       "26.0         5\n",
       "14.0         5\n",
       "12.0         5\n",
       "25.0         3\n",
       "20.0         3\n",
       "28.0         3\n",
       "17.0         2\n",
       "50.0         2\n",
       "59.0         2\n",
       "21.0         2\n",
       "47.0         2\n",
       "55.0         1\n",
       "88.0         1\n",
       "41.0         1\n",
       "67.0         1\n",
       "33.0         1\n",
       "18.0         1\n",
       "161.0        1\n",
       "81.0         1\n",
       "39.0         1\n",
       "137.0        1\n",
       "27.0         1\n",
       "15.0         1\n",
       "45.0         1\n",
       "125.0        1\n",
       "23.0         1\n",
       "44.0         1\n",
       "106.0        1\n",
       "22.0         1\n",
       "34.0         1\n",
       "16.0         1\n",
       "35.0         1\n",
       "53.0         1\n",
       "43.0         1\n",
       "63.0         1\n",
       "19.0         1\n",
       "60.0         1\n",
       "Name: Total.Serious.Injuries, dtype: int64"
      ]
     },
     "execution_count": 377,
     "metadata": {},
     "output_type": "execute_result"
    }
   ],
   "source": [
    "#fill the null values in the Total.Serious.Injuries column with 0\n",
    "df['Total.Serious.Injuries'] = df['Total.Serious.Injuries'].fillna(0.0)\n",
    "#confirm the changes\n",
    "df['Total.Serious.Injuries'].value_counts()"
   ]
  },
  {
   "cell_type": "code",
   "execution_count": 378,
   "metadata": {},
   "outputs": [
    {
     "data": {
      "text/plain": [
       "0.0      73387\n",
       "1.0      10320\n",
       "2.0       3576\n",
       "3.0        784\n",
       "4.0        372\n",
       "5.0        129\n",
       "6.0         67\n",
       "7.0         59\n",
       "9.0         22\n",
       "8.0         20\n",
       "13.0        14\n",
       "12.0        11\n",
       "10.0        11\n",
       "14.0        10\n",
       "11.0         9\n",
       "17.0         8\n",
       "18.0         6\n",
       "19.0         6\n",
       "22.0         5\n",
       "24.0         5\n",
       "15.0         4\n",
       "33.0         4\n",
       "16.0         4\n",
       "25.0         4\n",
       "23.0         3\n",
       "21.0         3\n",
       "32.0         3\n",
       "20.0         3\n",
       "27.0         3\n",
       "26.0         3\n",
       "30.0         2\n",
       "36.0         2\n",
       "42.0         2\n",
       "28.0         2\n",
       "38.0         2\n",
       "50.0         2\n",
       "31.0         2\n",
       "43.0         1\n",
       "39.0         1\n",
       "65.0         1\n",
       "47.0         1\n",
       "57.0         1\n",
       "58.0         1\n",
       "29.0         1\n",
       "45.0         1\n",
       "62.0         1\n",
       "71.0         1\n",
       "200.0        1\n",
       "125.0        1\n",
       "96.0         1\n",
       "69.0         1\n",
       "380.0        1\n",
       "68.0         1\n",
       "171.0        1\n",
       "35.0         1\n",
       "40.0         1\n",
       "84.0         1\n",
       "Name: Total.Minor.Injuries, dtype: int64"
      ]
     },
     "execution_count": 378,
     "metadata": {},
     "output_type": "execute_result"
    }
   ],
   "source": [
    "#fill the null values in the Total.Minor.Injuries column with 0\n",
    "df['Total.Minor.Injuries'] = df['Total.Minor.Injuries'].fillna(0.0)\n",
    "#confirm the changes\n",
    "df['Total.Minor.Injuries'].value_counts()"
   ]
  },
  {
   "cell_type": "code",
   "execution_count": 379,
   "metadata": {},
   "outputs": [
    {
     "data": {
      "text/plain": [
       "0.0      35791\n",
       "1.0      25101\n",
       "2.0      15988\n",
       "3.0       4313\n",
       "4.0       2662\n",
       "         ...  \n",
       "325.0        1\n",
       "230.0        1\n",
       "260.0        1\n",
       "251.0        1\n",
       "414.0        1\n",
       "Name: Total.Uninjured, Length: 379, dtype: int64"
      ]
     },
     "execution_count": 379,
     "metadata": {},
     "output_type": "execute_result"
    }
   ],
   "source": [
    "#fill the null values in the Total.Uninjured column with 0\n",
    "df['Total.Uninjured'] = df['Total.Uninjured'].fillna(0.0)\n",
    "#confirm the changes\n",
    "df['Total.Uninjured'].value_counts()"
   ]
  },
  {
   "cell_type": "markdown",
   "metadata": {},
   "source": [
    "#### Remove the '*unk*' and '*UNK*' values in the `Weather.Condition` column as well as the null values"
   ]
  },
  {
   "cell_type": "code",
   "execution_count": 266,
   "metadata": {},
   "outputs": [
    {
     "data": {
      "text/plain": [
       "VMC    71390\n",
       "IMC     5573\n",
       "UNK      587\n",
       "Unk      147\n",
       "Name: Weather.Condition, dtype: int64"
      ]
     },
     "execution_count": 266,
     "metadata": {},
     "output_type": "execute_result"
    }
   ],
   "source": [
    "df['Weather.Condition'].value_counts()"
   ]
  },
  {
   "cell_type": "code",
   "execution_count": 381,
   "metadata": {},
   "outputs": [
    {
     "data": {
      "text/plain": [
       "VMC        77303\n",
       "IMC         5976\n",
       "Unknown     5610\n",
       "Name: Weather.Condition, dtype: int64"
      ]
     },
     "execution_count": 381,
     "metadata": {},
     "output_type": "execute_result"
    }
   ],
   "source": [
    "#fill the nan values with 'Unk'\n",
    "df['Weather.Condition'] = df['Weather.Condition'].fillna('Unknown')\n",
    "#replace the 'UNK' values with 'Unk'\n",
    "df['Weather.Condition'].replace('UNK','Unknown', inplace=True)\n",
    "df['Weather.Condition'].replace('Unk','Unknown', inplace=True)\n",
    "#confirm changes \n",
    "df['Weather.Condition'].value_counts()\n"
   ]
  },
  {
   "cell_type": "markdown",
   "metadata": {},
   "source": [
    "#### Fill null values and delete them in the `Broad.phase.of.flight` column"
   ]
  },
  {
   "cell_type": "code",
   "execution_count": 382,
   "metadata": {},
   "outputs": [
    {
     "data": {
      "text/plain": [
       "Unknown        27713\n",
       "Landing        15428\n",
       "Takeoff        12493\n",
       "Cruise         10269\n",
       "Maneuvering     8144\n",
       "Approach        6546\n",
       "Climb           2034\n",
       "Taxi            1958\n",
       "Descent         1887\n",
       "Go-around       1353\n",
       "Standing         945\n",
       "Other            119\n",
       "Name: Broad.phase.of.flight, dtype: int64"
      ]
     },
     "execution_count": 382,
     "metadata": {},
     "output_type": "execute_result"
    }
   ],
   "source": [
    "#fill the null values in the Broad.Phase.of.Flight column with 'Unknown'\n",
    "df['Broad.phase.of.flight'] = df['Broad.phase.of.flight'].fillna('Unknown')\n",
    "#confirm the changes\n",
    "df['Broad.phase.of.flight'].value_counts()"
   ]
  },
  {
   "cell_type": "markdown",
   "metadata": {},
   "source": [
    "### Split the `Event.Date` column into year and month"
   ]
  },
  {
   "cell_type": "code",
   "execution_count": 383,
   "metadata": {},
   "outputs": [
    {
     "data": {
      "text/plain": [
       "0        10\n",
       "1        07\n",
       "2        08\n",
       "3        06\n",
       "4        08\n",
       "         ..\n",
       "88884    12\n",
       "88885    12\n",
       "88886    12\n",
       "88887    12\n",
       "88888    12\n",
       "Name: Event.Month, Length: 88889, dtype: object"
      ]
     },
     "execution_count": 383,
     "metadata": {},
     "output_type": "execute_result"
    }
   ],
   "source": [
    "#split the date into year \n",
    "df['Event.Year'] = df['Event.Date'].map(lambda x: x.split('-')[0])\n",
    "#split the date into months \n",
    "df['Event.Month'] = df['Event.Date'].map(lambda x: x.split('-')[1])\n",
    "df['Event.Month']"
   ]
  },
  {
   "cell_type": "markdown",
   "metadata": {},
   "source": [
    "#### For the remaining columns, individually fill or remove the _null_ values "
   ]
  },
  {
   "cell_type": "code",
   "execution_count": 384,
   "metadata": {},
   "outputs": [
    {
     "data": {
      "text/plain": [
       "0"
      ]
     },
     "execution_count": 384,
     "metadata": {},
     "output_type": "execute_result"
    }
   ],
   "source": [
    "#fill the rows with null values in the 'Amateur.Built' column with a new category 'Unkown'\n",
    "df['Amateur.Built'] = df['Amateur.Built'].fillna('Unkown')\n",
    "#confirm the changes\n",
    "df['Amateur.Built'].isnull().sum()"
   ]
  },
  {
   "cell_type": "code",
   "execution_count": 393,
   "metadata": {},
   "outputs": [
    {
     "data": {
      "text/plain": [
       "0"
      ]
     },
     "execution_count": 393,
     "metadata": {},
     "output_type": "execute_result"
    }
   ],
   "source": [
    "#fill null values in the 'Publication.Date' column with 'Unknown'\n",
    "df['Publication.Date'] = df['Publication.Date'].fillna('Unknown')\n",
    "#confirm the changes\n",
    "df['Publication.Date'].isnull().sum()"
   ]
  },
  {
   "cell_type": "code",
   "execution_count": 385,
   "metadata": {},
   "outputs": [
    {
     "data": {
      "text/plain": [
       "0"
      ]
     },
     "execution_count": 385,
     "metadata": {},
     "output_type": "execute_result"
    }
   ],
   "source": [
    "#fill the null values in the Purpose.of.flight column with 'Unknown'\n",
    "df['Purpose.of.flight'] = df['Purpose.of.flight'].fillna('Unknown')\n",
    "#confirm the changes\n",
    "df['Purpose.of.flight'].isnull().sum()"
   ]
  },
  {
   "cell_type": "code",
   "execution_count": 386,
   "metadata": {},
   "outputs": [
    {
     "data": {
      "text/plain": [
       "0"
      ]
     },
     "execution_count": 386,
     "metadata": {},
     "output_type": "execute_result"
    }
   ],
   "source": [
    "#fill the null values of the 'Injury.Severity' column with 'Unavailable'\n",
    "df['Injury.Severity'] = df['Injury.Severity'].fillna('Unavailable')\n",
    "#confirm the changes\n",
    "df['Injury.Severity'].isnull().sum()"
   ]
  },
  {
   "cell_type": "code",
   "execution_count": 387,
   "metadata": {},
   "outputs": [
    {
     "data": {
      "text/plain": [
       "0"
      ]
     },
     "execution_count": 387,
     "metadata": {},
     "output_type": "execute_result"
    }
   ],
   "source": [
    "#convert the model column into uppercase, strip any whitespace and align the values to the left\n",
    "df['Model'] = df['Model'].map(lambda x: str(x).strip().upper().ljust(20))\n",
    "#check to see if the null values have been removed\n",
    "df['Model'].isnull().sum()"
   ]
  },
  {
   "cell_type": "code",
   "execution_count": 403,
   "metadata": {},
   "outputs": [
    {
     "data": {
      "text/plain": [
       "Probable Cause                                                                                                                                                                                                                                               61754\n",
       "nan                                                                                                                                                                                                                                                           6581\n",
       "Foreign                                                                                                                                                                                                                                                       1999\n",
       "Factual                                                                                                                                                                                                                                                        145\n",
       "The pilot's failure to maintain directional control during the landing roll.                                                                                                                                                                                    64\n",
       "                                                                                                                                                                                                                                                             ...  \n",
       "The pilots loss of control due to his not maintaining adequate airspeed and altitude during a simulated hydraulic flight control failure. Contributing to the accident was the flight instructors inadequate supervision and delayed remedial response.        1\n",
       "The failure of the left main wheel attachment fitting due to overstress.                                                                                                                                                                                         1\n",
       "The pilot's use of excessive brakes during an aborted takeoff, which resulted in a nose-over.                                                                                                                                                                    1\n",
       "The pilot's improper preflight and in-flight planning which resulted in a loss of engine power due to fuel exhaustion.                                                                                                                                           1\n",
       "The partial loss of engine power while maneuvering for undetermined reasons.                                                                                                                                                                                     1\n",
       "Name: Report.Status, Length: 16778, dtype: int64"
      ]
     },
     "execution_count": 403,
     "metadata": {},
     "output_type": "execute_result"
    }
   ],
   "source": [
    "df['Report.Status'] = df['Report.Status'].map(lambda x: str(x).strip())\n",
    "df['Report.Status'] = df['Report.Status'].fillna('nan')\n",
    "df['Report.Status'] = df['Report.Status'].replace('.','nan')\n",
    "df['Report.Status'] = df['Report.Status'].replace('None.','nan')\n",
    "df['Report.Status'] = df['Report.Status'].replace('<br /><br />','nan')\n",
    "df['Report.Status'].value_counts()"
   ]
  },
  {
   "cell_type": "code",
   "execution_count": 404,
   "metadata": {},
   "outputs": [
    {
     "data": {
      "text/plain": [
       "Event.Id                  0\n",
       "Investigation.Type        0\n",
       "Accident.Number           0\n",
       "Event.Date                0\n",
       "Location                  0\n",
       "Country                   0\n",
       "Injury.Severity           0\n",
       "Aircraft.damage           0\n",
       "Registration.Number       0\n",
       "Make                      0\n",
       "Model                     0\n",
       "Amateur.Built             0\n",
       "Number.of.Engines         0\n",
       "Engine.Type               0\n",
       "Purpose.of.flight         0\n",
       "Total.Fatal.Injuries      0\n",
       "Total.Serious.Injuries    0\n",
       "Total.Minor.Injuries      0\n",
       "Total.Uninjured           0\n",
       "Weather.Condition         0\n",
       "Broad.phase.of.flight     0\n",
       "Report.Status             0\n",
       "Publication.Date          0\n",
       "Event.Year                0\n",
       "Event.Month               0\n",
       "dtype: int64"
      ]
     },
     "execution_count": 404,
     "metadata": {},
     "output_type": "execute_result"
    }
   ],
   "source": [
    "#confirming there are no null values\n",
    "df.isnull().sum()"
   ]
  },
  {
   "cell_type": "code",
   "execution_count": 405,
   "metadata": {},
   "outputs": [
    {
     "data": {
      "text/plain": [
       "0"
      ]
     },
     "execution_count": 405,
     "metadata": {},
     "output_type": "execute_result"
    }
   ],
   "source": [
    "#check for any duplicates in the dataframe\n",
    "df.duplicated().sum()"
   ]
  },
  {
   "cell_type": "code",
   "execution_count": 406,
   "metadata": {},
   "outputs": [
    {
     "data": {
      "text/plain": [
       "(88889, 25)"
      ]
     },
     "execution_count": 406,
     "metadata": {},
     "output_type": "execute_result"
    }
   ],
   "source": [
    "#dataframe shape\n",
    "df.shape"
   ]
  },
  {
   "cell_type": "code",
   "execution_count": 407,
   "metadata": {},
   "outputs": [
    {
     "data": {
      "text/plain": [
       "Index(['Event.Id', 'Investigation.Type', 'Accident.Number', 'Event.Date',\n",
       "       'Location', 'Country', 'Injury.Severity', 'Aircraft.damage',\n",
       "       'Registration.Number', 'Make', 'Model', 'Amateur.Built',\n",
       "       'Number.of.Engines', 'Engine.Type', 'Purpose.of.flight',\n",
       "       'Total.Fatal.Injuries', 'Total.Serious.Injuries',\n",
       "       'Total.Minor.Injuries', 'Total.Uninjured', 'Weather.Condition',\n",
       "       'Broad.phase.of.flight', 'Report.Status', 'Publication.Date',\n",
       "       'Event.Year', 'Event.Month'],\n",
       "      dtype='object')"
      ]
     },
     "execution_count": 407,
     "metadata": {},
     "output_type": "execute_result"
    }
   ],
   "source": [
    "df.columns"
   ]
  },
  {
   "cell_type": "markdown",
   "metadata": {},
   "source": [
    "## Save the data and move on to Tableau for vizualizations"
   ]
  },
  {
   "cell_type": "code",
   "execution_count": 409,
   "metadata": {},
   "outputs": [],
   "source": [
    "df.to_csv('cleaned_AvaiationData.csv', index=False)"
   ]
  }
 ],
 "metadata": {
  "kernelspec": {
   "display_name": "learn-env",
   "language": "python",
   "name": "python3"
  },
  "language_info": {
   "codemirror_mode": {
    "name": "ipython",
    "version": 3
   },
   "file_extension": ".py",
   "mimetype": "text/x-python",
   "name": "python",
   "nbconvert_exporter": "python",
   "pygments_lexer": "ipython3",
   "version": "3.8.5"
  }
 },
 "nbformat": 4,
 "nbformat_minor": 2
}
